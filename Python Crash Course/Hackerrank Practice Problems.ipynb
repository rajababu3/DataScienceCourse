{
 "cells": [
  {
   "cell_type": "markdown",
   "metadata": {},
   "source": [
    "Given a square matrix of size N x N, calculate the absolute difference between the sums of its diagonals.\n",
    "\n",
    "Input Format\n",
    "\n",
    "The first line contains a single integer, . The next  lines denote the matrix's rows, with each line containing space-separated integers describing the columns.\n",
    "\n",
    "Output Format\n",
    "\n",
    "Print the absolute difference between the two sums of the matrix's diagonals as a single integer.\n",
    "\n",
    "Sample Input\n",
    "\n",
    "3\n",
    "11 2 4\n",
    "4 5 6\n",
    "10 8 -12\n",
    "Sample Output\n",
    "\n",
    "15\n",
    "Explanation\n",
    "\n",
    "The primary diagonal is: \n",
    "11\n",
    "      5\n",
    "            -12\n",
    "\n",
    "Sum across the primary diagonal: 11 + 5 - 12 = 4\n",
    "\n",
    "The secondary diagonal is:\n",
    "            4\n",
    "      5\n",
    "10\n",
    "Sum across the secondary diagonal: 4 + 5 + 10 = 19 \n",
    "Difference: |4 - 19| = 15"
   ]
  },
  {
   "cell_type": "code",
   "execution_count": 36,
   "metadata": {
    "collapsed": false
   },
   "outputs": [
    {
     "name": "stdout",
     "output_type": "stream",
     "text": [
      "4\n",
      "-1 1 -7 -8\n",
      "-10 -8 -5 -2\n",
      "0 9 7 -1\n",
      "4 4 -2 1\n",
      "0\n"
     ]
    }
   ],
   "source": [
    "n = int(input().strip())\n",
    "a = []\n",
    "for a_i in range(n):\n",
    "    a_t = [int(a_temp) for a_temp in input().strip().split(' ')]\n",
    "    a.append(a_t)\n",
    "t1 = sum(a[i][i] for i in range(n))\n",
    "t2 = sum(a[i][n-i-1] for i in range(n))\n",
    "total = abs(t1-t2)\n",
    "print(total)\n",
    "\n",
    "3\n",
    "11 2 4\n",
    "4 5 6\n",
    "10 8 -12"
   ]
  },
  {
   "cell_type": "code",
   "execution_count": 41,
   "metadata": {
    "collapsed": false
   },
   "outputs": [
    {
     "name": "stdout",
     "output_type": "stream",
     "text": [
      "3\n",
      "11 2 4\n",
      "4 5 6\n",
      "10 8 -12\n",
      "4\n",
      "19\n",
      "15\n"
     ]
    }
   ],
   "source": [
    "n = int(input().strip())\n",
    "a = []\n",
    "for a_i in range(n):\n",
    "    a_t = [int(a_temp) for a_temp in input().strip().split(' ')]\n",
    "    a.append(a_t)\n",
    "t1 = sum(a[i][i] for i in range(n))\n",
    "t2 = sum(a[i][n-i-1] for i in range(n))\n",
    "print(t1)\n",
    "print(t2)\n",
    "total = abs(t1-t2)\n",
    "print(total)"
   ]
  },
  {
   "cell_type": "code",
   "execution_count": 27,
   "metadata": {
    "collapsed": false
   },
   "outputs": [],
   "source": [
    "new_list2 = [a[0][2],a[1][1],a[2][0]]"
   ]
  },
  {
   "cell_type": "code",
   "execution_count": 32,
   "metadata": {
    "collapsed": false
   },
   "outputs": [],
   "source": [
    "t1 = sum(new_list1)"
   ]
  },
  {
   "cell_type": "code",
   "execution_count": 33,
   "metadata": {
    "collapsed": false
   },
   "outputs": [],
   "source": [
    "t2 = sum(new_list2)"
   ]
  },
  {
   "cell_type": "code",
   "execution_count": 30,
   "metadata": {
    "collapsed": false
   },
   "outputs": [
    {
     "data": {
      "text/plain": [
       "[3, 6, 8]"
      ]
     },
     "execution_count": 30,
     "metadata": {},
     "output_type": "execute_result"
    }
   ],
   "source": [
    "new_list2"
   ]
  },
  {
   "cell_type": "code",
   "execution_count": 18,
   "metadata": {
    "collapsed": false
   },
   "outputs": [
    {
     "data": {
      "text/plain": [
       "[1, 6, 10]"
      ]
     },
     "execution_count": 18,
     "metadata": {},
     "output_type": "execute_result"
    }
   ],
   "source": [
    "new_list1"
   ]
  },
  {
   "cell_type": "code",
   "execution_count": 34,
   "metadata": {
    "collapsed": true
   },
   "outputs": [],
   "source": [
    "total = abs(t1 + t2)"
   ]
  },
  {
   "cell_type": "code",
   "execution_count": 35,
   "metadata": {
    "collapsed": false
   },
   "outputs": [
    {
     "data": {
      "text/plain": [
       "34"
      ]
     },
     "execution_count": 35,
     "metadata": {},
     "output_type": "execute_result"
    }
   ],
   "source": [
    "total"
   ]
  },
  {
   "cell_type": "code",
   "execution_count": 15,
   "metadata": {
    "collapsed": false
   },
   "outputs": [
    {
     "name": "stdout",
     "output_type": "stream",
     "text": [
      "aQ#\n",
      "True\n",
      "True\n",
      "False\n",
      "True\n",
      "True\n"
     ]
    }
   ],
   "source": [
    "if __name__ == '__main__':\n",
    "    str = input()\n",
    "    print (any(c.isalnum()  for c in str))\n",
    "    print (any(c.isalpha() for c in str))\n",
    "    print (any(c.isdigit() for c in str))\n",
    "    print (any(c.islower() for c in str))\n",
    "    print (any(c.isupper() for c in str))"
   ]
  },
  {
   "cell_type": "code",
   "execution_count": 39,
   "metadata": {
    "collapsed": false
   },
   "outputs": [
    {
     "name": "stdout",
     "output_type": "stream",
     "text": [
      "5\n",
      "    H    \n",
      "   HHH   \n",
      "  HHHHH  \n",
      " HHHHHHH \n",
      "HHHHHHHHH\n",
      "HHHHH                              HHHHH\n",
      "HHHHH                              HHHHH\n",
      "HHHHH                              HHHHH\n",
      "HHHHH                              HHHHH\n",
      "HHHHH                              HHHHH\n",
      "HHHHH                              HHHHH\n",
      "  HHHHHHHHHHHHHHHHHHHHHHHHH   \n",
      "  HHHHHHHHHHHHHHHHHHHHHHHHH   \n",
      "  HHHHHHHHHHHHHHHHHHHHHHHHH   \n",
      "     HHHHH                         HHHHH\n",
      "     HHHHH                         HHHHH\n",
      "     HHHHH                         HHHHH\n",
      "     HHHHH                         HHHHH\n",
      "     HHHHH                         HHHHH\n",
      "     HHHHH                         HHHHH\n",
      "                    HHHHHHHHH \n",
      "                     HHHHHHH  \n",
      "                      HHHHH   \n",
      "                       HHH    \n",
      "                        H     \n"
     ]
    }
   ],
   "source": [
    "#Replace all ______ with rjust, ljust or center. \n",
    "\n",
    "thickness = int(input()) #This must be an odd number\n",
    "c = 'H'\n",
    "\n",
    "#Top Cone\n",
    "for i in range(thickness):\n",
    "    print((c*i).rjust(thickness-1)+c+(c*i).ljust(thickness-1))\n",
    "\n",
    "#Top Pillars\n",
    "for i in range(thickness+1):\n",
    "    print((c*thickness).ljust(thickness*2)+(c*thickness).rjust(thickness*6))\n",
    "\n",
    "#Middle Belt\n",
    "for i in range((thickness+1)//2):\n",
    "    print((c*thickness*5).center(thickness*6))    \n",
    "\n",
    "#Bottom Pillars\n",
    "for i in range(thickness+1):\n",
    "    print((c*thickness).rjust(thickness*2)+(c*thickness).rjust(thickness*6))    \n",
    "\n",
    "#Bottom Cone\n",
    "for i in range(thickness):\n",
    "    print(((c*(thickness-i-1)).rjust(thickness)+c+(c*(thickness-i-1)).ljust(thickness)).rjust(thickness*6))  \n",
    "\n"
   ]
  },
  {
   "cell_type": "code",
   "execution_count": 50,
   "metadata": {
    "collapsed": false
   },
   "outputs": [
    {
     "name": "stdout",
     "output_type": "stream",
     "text": [
      "6\n",
      "      \n",
      "     #\n",
      "    ##\n",
      "   ###\n",
      "  ####\n",
      " #####\n",
      "######\n"
     ]
    }
   ],
   "source": [
    "n = int(input().strip())\n",
    "for i in range(n+1):\n",
    "    print(' ' * (n-i) + '#'*i)"
   ]
  },
  {
   "cell_type": "code",
   "execution_count": 58,
   "metadata": {
    "collapsed": false
   },
   "outputs": [
    {
     "name": "stdout",
     "output_type": "stream",
     "text": [
      "6\n",
      "     #\n",
      "    ##\n",
      "   ###\n",
      "  ####\n",
      " #####\n"
     ]
    }
   ],
   "source": [
    "n = int(input().strip())\n",
    "for i in range(1, n):\n",
    "    print((' ' * (n-i)) + '#' * i)"
   ]
  },
  {
   "cell_type": "code",
   "execution_count": 56,
   "metadata": {
    "collapsed": false
   },
   "outputs": [
    {
     "name": "stdout",
     "output_type": "stream",
     "text": [
      "0\n",
      "1\n",
      "2\n",
      "3\n",
      "4\n",
      "5\n",
      "6\n"
     ]
    }
   ],
   "source": [
    "for i in range(7):\n",
    "    print(i)"
   ]
  },
  {
   "cell_type": "code",
   "execution_count": 66,
   "metadata": {
    "collapsed": false
   },
   "outputs": [
    {
     "name": "stdout",
     "output_type": "stream",
     "text": [
      "1 2 3 4 5\n",
      "10 14\n"
     ]
    }
   ],
   "source": [
    "a,b,c,d,e = input().strip().split(' ')\n",
    "a,b,c,d,e = [int(a),int(b),int(c),int(d),int(e)]\n",
    "a1 = [sum([b,c,d,e]), sum([a,c,d,e]),sum([b,a,d,e]),sum([b,c,a,e]),sum([b,c,d,a])]\n",
    "print(min(a1), max(a1))"
   ]
  },
  {
   "cell_type": "code",
   "execution_count": 61,
   "metadata": {
    "collapsed": false
   },
   "outputs": [
    {
     "data": {
      "text/plain": [
       "[1, 2, 3, 4, 5]"
      ]
     },
     "execution_count": 61,
     "metadata": {},
     "output_type": "execute_result"
    }
   ],
   "source": [
    "[a,b,c,d,e]"
   ]
  },
  {
   "cell_type": "markdown",
   "metadata": {},
   "source": [
    "Note: Midnight is  on a -hour clock, and  on a -hour clock. Noon is  on a -hour clock, and  on a -hour clock.\n",
    "\n",
    "Input Format\n",
    "\n",
    "A single string containing a time in -hour clock format (i.e.:  or ), where  and .\n",
    "\n",
    "Output Format\n",
    "\n",
    "Convert and print the given time in -hour format, where .\n",
    "\n",
    "Sample Input\n",
    "\n",
    "07:05:45PM\n",
    "Sample Output\n",
    "\n",
    "19:05:45"
   ]
  },
  {
   "cell_type": "code",
   "execution_count": 68,
   "metadata": {
    "collapsed": false
   },
   "outputs": [
    {
     "ename": "SyntaxError",
     "evalue": "invalid syntax (<ipython-input-68-6e4aad727fa4>, line 2)",
     "output_type": "error",
     "traceback": [
      "\u001b[0;36m  File \u001b[0;32m\"<ipython-input-68-6e4aad727fa4>\"\u001b[0;36m, line \u001b[0;32m2\u001b[0m\n\u001b[0;31m    if time > (12:00:00):\u001b[0m\n\u001b[0m                 ^\u001b[0m\n\u001b[0;31mSyntaxError\u001b[0m\u001b[0;31m:\u001b[0m invalid syntax\n"
     ]
    }
   ],
   "source": [
    "time = input().strip()\n",
    "if time > (12:00:00):\n",
    "    print (time)"
   ]
  },
  {
   "cell_type": "code",
   "execution_count": null,
   "metadata": {
    "collapsed": true
   },
   "outputs": [],
   "source": []
  }
 ],
 "metadata": {
  "kernelspec": {
   "display_name": "Python 3",
   "language": "python",
   "name": "python3"
  },
  "language_info": {
   "codemirror_mode": {
    "name": "ipython",
    "version": 3
   },
   "file_extension": ".py",
   "mimetype": "text/x-python",
   "name": "python",
   "nbconvert_exporter": "python",
   "pygments_lexer": "ipython3",
   "version": "3.6.0"
  }
 },
 "nbformat": 4,
 "nbformat_minor": 2
}
